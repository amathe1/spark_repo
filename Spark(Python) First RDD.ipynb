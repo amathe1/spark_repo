{
 "cells": [
  {
   "cell_type": "code",
   "execution_count": 0,
   "metadata": {
    "application/vnd.databricks.v1+cell": {
     "cellMetadata": {
      "byteLimit": 2048000,
      "rowLimit": 10000
     },
     "inputWidgets": {},
     "nuid": "da524cd6-9dfe-408a-98e3-98e06a2199f2",
     "showTitle": false,
     "tableResultSettingsMap": {},
     "title": ""
    }
   },
   "outputs": [
    {
     "output_type": "execute_result",
     "data": {
      "text/plain": [
       "8"
      ]
     },
     "execution_count": 11,
     "metadata": {},
     "output_type": "execute_result"
    }
   ],
   "source": [
    "from pyspark import SparkContext, SparkConf\n",
    "\n",
    "conf = SparkConf().setAppName(\"Spark Python\").setMaster(\"local[*]\")\n",
    "sc = SparkContext.getOrCreate(conf=conf)\n",
    "\n",
    "list = [1, 2, 3, 4, 5, 6]\n",
    "rdd1 = sc.parallelize(list)\n",
    "rdd1.collect()\n",
    "\n",
    "# Appyling basic transformation\n",
    "rdd2 = rdd1.map(lambda x : x + 1)\n",
    "rdd2.collect()\n",
    "\n",
    "# Multiple transformations\n",
    "rdd3 = rdd1.map(lambda _ : _ + 1).map(lambda _ : _ + 1).map(lambda _ : _ + 1).map(lambda _ : _ + 1).map(lambda _ : _ + 1)\n",
    "rdd3.collect()\n",
    "\n",
    "# Getting partition information\n",
    "rdd3.getNumPartitions()\n",
    "\n"
   ]
  }
 ],
 "metadata": {
  "application/vnd.databricks.v1+notebook": {
   "computePreferences": null,
   "dashboards": [],
   "environmentMetadata": {
    "base_environment": "",
    "client": "1"
   },
   "language": "python",
   "notebookMetadata": {
    "pythonIndentUnit": 4
   },
   "notebookName": "Spark(Python) First RDD",
   "widgets": {}
  }
 },
 "nbformat": 4,
 "nbformat_minor": 0
}
